{
 "cells": [
  {
   "cell_type": "markdown",
   "metadata": {},
   "source": [
    "## Lesson 4 - Working with Functions"
   ]
  },
  {
   "cell_type": "markdown",
   "metadata": {},
   "source": [
    "Pre - requisite for this course\n",
    "​\n",
    "1. A beginner\n",
    "2. python installed System (IDE/Interpreter).\n",
    "3. Knowledge on Variables.\n",
    "4. knowlege on conditional statements and loops.\n",
    "5. A notepad to take notes\n"
   ]
  },
  {
   "cell_type": "markdown",
   "metadata": {},
   "source": [
    "### What are functions ?"
   ]
  },
  {
   "cell_type": "markdown",
   "metadata": {},
   "source": [
    "Functions are the basic unit of reusable code in Python. So, let's take a look at how they work."
   ]
  },
  {
   "cell_type": "markdown",
   "metadata": {},
   "source": [
    "### Basic Syntax of writing a function "
   ]
  },
  {
   "cell_type": "markdown",
   "metadata": {},
   "source": [
    "def--> keyword \n",
    "helloworld() --> Name of function\n",
    ": -->to define end of function\n"
   ]
  },
  {
   "cell_type": "code",
   "execution_count": 5,
   "metadata": {},
   "outputs": [
    {
     "name": "stdout",
     "output_type": "stream",
     "text": [
      "Hey you called hello World!!\n"
     ]
    }
   ],
   "source": [
    "def main():\n",
    "    helloworld()\n",
    "\n",
    "def helloworld():\n",
    "    print(\"Hey you called hello World!!\")\n",
    "\n",
    "##Shows the name of the currrent module    \n",
    "if __name__ == \"__main__\": main()"
   ]
  },
  {
   "cell_type": "markdown",
   "metadata": {},
   "source": [
    "#### mmmm.. This is not returning anything since function should return..ryt ?"
   ]
  },
  {
   "cell_type": "code",
   "execution_count": 6,
   "metadata": {},
   "outputs": [],
   "source": [
    "###Updated the same code to return the value"
   ]
  },
  {
   "cell_type": "code",
   "execution_count": 8,
   "metadata": {},
   "outputs": [
    {
     "name": "stdout",
     "output_type": "stream",
     "text": [
      "Returning : Hey you called hello World!!\n"
     ]
    }
   ],
   "source": [
    "def main():\n",
    "    x = helloworld()\n",
    "    print(\"Returning :\",x)\n",
    "\n",
    "def helloworld():\n",
    "    return \"Hey you called hello World!!\"\n",
    "\n",
    "##Shows the name of the currrent module    \n",
    "if __name__ == \"__main__\": main()"
   ]
  },
  {
   "cell_type": "markdown",
   "metadata": {},
   "source": [
    "### Passing  Arguments "
   ]
  },
  {
   "cell_type": "code",
   "execution_count": 18,
   "metadata": {},
   "outputs": [
    {
     "name": "stdout",
     "output_type": "stream",
     "text": [
      "Returning : Hey you called hello World!! python\n"
     ]
    }
   ],
   "source": [
    "def main():\n",
    "    x = helloworld(\"python\")\n",
    "    print(\"Returning :\",x)\n",
    "\n",
    "def helloworld(a):\n",
    "    return \"Hey you called hello World!! \" + a\n",
    "\n",
    "##Shows the name of the currrent module    \n",
    "if __name__ == \"__main__\": main()"
   ]
  },
  {
   "cell_type": "code",
   "execution_count": 19,
   "metadata": {},
   "outputs": [],
   "source": [
    "###Passing multiple arguments"
   ]
  },
  {
   "cell_type": "code",
   "execution_count": 20,
   "metadata": {},
   "outputs": [
    {
     "name": "stdout",
     "output_type": "stream",
     "text": [
      "Sum is  : 40\n"
     ]
    }
   ],
   "source": [
    "def main():\n",
    "    x = testnum(10,10,10,10)\n",
    "    print(\"Sum is  :\",x)\n",
    "\n",
    "def testnum(a,b,c,d):\n",
    "    return a+b+c+d\n",
    "##Shows the name of the currrent module    \n",
    "if __name__ == \"__main__\": main()"
   ]
  },
  {
   "cell_type": "code",
   "execution_count": 21,
   "metadata": {},
   "outputs": [],
   "source": [
    "###Argument lists"
   ]
  },
  {
   "cell_type": "code",
   "execution_count": 22,
   "metadata": {},
   "outputs": [
    {
     "name": "stdout",
     "output_type": "stream",
     "text": [
      "10\n",
      "10\n",
      "10\n",
      "10\n"
     ]
    }
   ],
   "source": [
    "def main():\n",
    "    testnum(10,10,10,10)\n",
    "    \n",
    "\n",
    "def testnum(*args):\n",
    "    if len(args):\n",
    "        for s in args:\n",
    "            print(s)\n",
    "    else:\n",
    "        print(\"Cool!\")\n",
    "##Shows the name of the currrent module    \n",
    "if __name__ == \"__main__\": main()"
   ]
  },
  {
   "cell_type": "code",
   "execution_count": 23,
   "metadata": {},
   "outputs": [],
   "source": [
    "###Passing a tuple as arglist"
   ]
  },
  {
   "cell_type": "code",
   "execution_count": 25,
   "metadata": {},
   "outputs": [
    {
     "name": "stdout",
     "output_type": "stream",
     "text": [
      "10\n",
      "10\n",
      "10\n",
      "10\n",
      "50\n"
     ]
    }
   ],
   "source": [
    "def main():\n",
    "    x = (10,10,10,10,50)\n",
    "    testnum(*x)\n",
    "    \n",
    "\n",
    "def testnum(*args):\n",
    "    if len(args):\n",
    "        for s in args:\n",
    "            print(s)\n",
    "    else:\n",
    "        print(\"Cool!\")\n",
    "##Shows the name of the currrent module    \n",
    "if __name__ == \"__main__\": main()"
   ]
  },
  {
   "cell_type": "code",
   "execution_count": 33,
   "metadata": {},
   "outputs": [],
   "source": [
    "##Keyword Arguments"
   ]
  },
  {
   "cell_type": "code",
   "execution_count": 32,
   "metadata": {},
   "outputs": [
    {
     "name": "stdout",
     "output_type": "stream",
     "text": [
      "a = 10\n",
      "b = 20\n",
      "c = 30\n",
      "d = 40\n"
     ]
    }
   ],
   "source": [
    "def main():\n",
    "    x = dict(a=10,b=20,c=30,d=40)###Dict\n",
    "    testnum(**x)\n",
    "    \n",
    "\n",
    "def testnum(**kwargs):\n",
    "    if len(kwargs):\n",
    "        for s in kwargs:\n",
    "            print('{} = {}'.format(s,kwargs[s]))\n",
    "    else:\n",
    "        print(\"Cool!\")\n",
    "##Shows the name of the currrent module    \n",
    "if __name__ == \"__main__\": main()"
   ]
  },
  {
   "cell_type": "code",
   "execution_count": 34,
   "metadata": {},
   "outputs": [
    {
     "name": "stdout",
     "output_type": "stream",
     "text": [
      "Big sum: 49995000\n",
      "Elapsed time: 0.0 ms\n"
     ]
    }
   ],
   "source": [
    "#!/usr/bin/env python3\n",
    "# Copyright 2009-2017 BHG http://bw.org/\n",
    "\n",
    "import time\n",
    "\n",
    "def elapsed_time(f):\n",
    "    def wrapper():\n",
    "        t1 = time.time()\n",
    "        f()\n",
    "        t2 = time.time()\n",
    "        print(f'Elapsed time: {(t2 - t1) * 1000} ms')\n",
    "    return wrapper\n",
    "\n",
    "\n",
    "@elapsed_time\n",
    "def big_sum():\n",
    "    num_list = []\n",
    "    for num in (range(0, 10000)):\n",
    "        num_list.append(num)\n",
    "    print(f'Big sum: {sum(num_list)}')\n",
    "\n",
    "def main():\n",
    "    big_sum()\n",
    "\n",
    "if __name__ == '__main__': main()\n"
   ]
  },
  {
   "cell_type": "code",
   "execution_count": null,
   "metadata": {},
   "outputs": [],
   "source": []
  }
 ],
 "metadata": {
  "kernelspec": {
   "display_name": "Python 3",
   "language": "python",
   "name": "python3"
  },
  "language_info": {
   "codemirror_mode": {
    "name": "ipython",
    "version": 3
   },
   "file_extension": ".py",
   "mimetype": "text/x-python",
   "name": "python",
   "nbconvert_exporter": "python",
   "pygments_lexer": "ipython3",
   "version": "3.7.0"
  }
 },
 "nbformat": 4,
 "nbformat_minor": 2
}
