{
 "cells": [
  {
   "cell_type": "markdown",
   "metadata": {},
   "source": [
    "## Lesson 5 - Working with Classes"
   ]
  },
  {
   "cell_type": "markdown",
   "metadata": {},
   "source": [
    "Pre - requisite for this course\n",
    "​\n",
    "1. A beginner\n",
    "2. python installed System (IDE/Interpreter).\n",
    "3. Knowledge on Variables.\n",
    "4. knowlege on conditional statements and loops.\n",
    "5. Knowledge on Functions.\n",
    "6. A notepad to take notes"
   ]
  },
  {
   "cell_type": "markdown",
   "metadata": {},
   "source": [
    "### What is a class in python ?"
   ]
  },
  {
   "cell_type": "markdown",
   "metadata": {},
   "source": [
    "Python is an “object-oriented programming language.” This means that almost all the code is implemented using a special construct called classes. Programmers use classes to keep related things together. This is done using the keyword “class,” which is a grouping of object-oriented constructs."
   ]
  },
  {
   "cell_type": "markdown",
   "metadata": {},
   "source": [
    "A class is a code template for creating objects. Objects have member variables and have behaviour associated with them. In python a class is created by the keyword class.\n",
    "\n",
    "An object is created using the constructor of the class. This object will then be called the instance of the class. In Python we create instances in the following manner"
   ]
  },
  {
   "cell_type": "markdown",
   "metadata": {},
   "source": [
    "### How to create a class ?"
   ]
  },
  {
   "cell_type": "raw",
   "metadata": {},
   "source": [
    "class ClassName:\n",
    "    <statement-1>\n",
    "    .\n",
    "    .\n",
    "    .\n",
    "    <statement-N>"
   ]
  },
  {
   "cell_type": "markdown",
   "metadata": {},
   "source": [
    "#### Example"
   ]
  },
  {
   "cell_type": "code",
   "execution_count": 8,
   "metadata": {},
   "outputs": [
    {
     "name": "stdout",
     "output_type": "stream",
     "text": [
      "I' m red in color.\n",
      "Fast.\n"
     ]
    }
   ],
   "source": [
    "class Car:\n",
    "    colors = 'I\\' m red in color.'\n",
    "    movement = 'Fast.'\n",
    "\n",
    "    def color(self):\n",
    "        print(self.colors)\n",
    "\n",
    "    def move(self):\n",
    "        print(self.movement)\n",
    "\n",
    "def main():\n",
    "    objCar = Car()\n",
    "    objCar.color()\n",
    "    objCar.move()\n",
    "\n",
    "if __name__ == '__main__': main()"
   ]
  },
  {
   "cell_type": "markdown",
   "metadata": {},
   "source": [
    "### Why Self ?"
   ]
  },
  {
   "cell_type": "markdown",
   "metadata": {},
   "source": [
    "\n",
    "Now when objCar.color(arg1, arg2) is called, python internally converts it for you as:\n",
    "\n",
    "ClassA.methodA(objCar, arg1, arg2)\n",
    "\n",
    "The self variable refers to the object itself."
   ]
  },
  {
   "cell_type": "markdown",
   "metadata": {},
   "source": [
    "### Lets Check how to Write a constructor"
   ]
  },
  {
   "cell_type": "markdown",
   "metadata": {},
   "source": [
    "#### But wait what is a constructor and why do we need it?"
   ]
  },
  {
   "cell_type": "markdown",
   "metadata": {},
   "source": [
    "A constructor (abbreviation: ctor) is a special type of subroutine called to create an object(Wikipedia).\n",
    "\n",
    "The purpose is to let you build your object as you wish at creation time."
   ]
  },
  {
   "cell_type": "markdown",
   "metadata": {},
   "source": [
    "Example Time!"
   ]
  },
  {
   "cell_type": "code",
   "execution_count": 15,
   "metadata": {},
   "outputs": [
    {
     "name": "stdout",
     "output_type": "stream",
     "text": [
      "The kitten is named \"flurry\".\n",
      "The duck is named \"donald\".\n"
     ]
    }
   ],
   "source": [
    "class Animal:\n",
    "    def __init__(self, type, name): ### Constructor\n",
    "        self._type = type\n",
    "        self._name = name\n",
    "\n",
    "    def type(self):\n",
    "        return self._type\n",
    "\n",
    "    def name(self):\n",
    "        return self._name\n",
    "\n",
    "def print_animal(o):\n",
    "    if not isinstance(o, Animal):\n",
    "        raise TypeError('print_animal(): requires an Animal')\n",
    "    print('The {} is named \"{}\".'.format(o.type(), o.name()))\n",
    "\n",
    "\n",
    "def main():\n",
    "    a0 = Animal('kitten', 'flurry')\n",
    "    a1 = Animal('duck', 'donald')\n",
    "    print_animal(a0)\n",
    "    print_animal(a1)\n",
    "\n",
    "if __name__ == '__main__': main()\n"
   ]
  },
  {
   "cell_type": "markdown",
   "metadata": {},
   "source": [
    "There is no function overloading in Python, meaning that you can't have multiple functions with the same name but different arguments.\n",
    "\n",
    "There's a special class method name called init, with double underscores before and after, so those are two underscore characters. One and two, both before and after the word init. And that's a special name for a class function which operates as an initializer, or a constructor.\n",
    "\n",
    "As stated in the official documentation __init__ is called when the instance is created, other methods do not receive this treatment."
   ]
  },
  {
   "cell_type": "code",
   "execution_count": null,
   "metadata": {},
   "outputs": [],
   "source": []
  }
 ],
 "metadata": {
  "kernelspec": {
   "display_name": "Python 3",
   "language": "python",
   "name": "python3"
  },
  "language_info": {
   "codemirror_mode": {
    "name": "ipython",
    "version": 3
   },
   "file_extension": ".py",
   "mimetype": "text/x-python",
   "name": "python",
   "nbconvert_exporter": "python",
   "pygments_lexer": "ipython3",
   "version": "3.7.0"
  }
 },
 "nbformat": 4,
 "nbformat_minor": 2
}
